{
 "cells": [
  {
   "cell_type": "markdown",
   "id": "6c6ee199-770b-438d-bc94-2bb395080a0d",
   "metadata": {},
   "source": [
    "# Play the game"
   ]
  },
  {
   "cell_type": "code",
   "execution_count": 1,
   "id": "078794c9-f7d9-4b02-9e72-6f5677708911",
   "metadata": {
    "tags": []
   },
   "outputs": [
    {
     "name": "stdout",
     "output_type": "stream",
     "text": [
      "Requirement already satisfied: pygame in /anaconda/envs/azureml_py38/lib/python3.9/site-packages (2.6.0)\n"
     ]
    }
   ],
   "source": [
    "# Let's make sure we have the right library\n",
    "!pip install pygame"
   ]
  },
  {
   "cell_type": "code",
   "execution_count": 2,
   "id": "bf92b52d-0dda-47c6-91f6-4d5d5eb443c9",
   "metadata": {
    "tags": []
   },
   "outputs": [
    {
     "name": "stdout",
     "output_type": "stream",
     "text": [
      "/anaconda/envs/azureml_py38/bin/python\n"
     ]
    }
   ],
   "source": [
    "# and that we are in the right kernel\n",
    "import sys\n",
    "print(sys.executable)"
   ]
  },
  {
   "cell_type": "markdown",
   "id": "baf8e8c2-1f07-4581-97e6-f2838464f3fd",
   "metadata": {},
   "source": [
    "## Play the game, with user interaction\n",
    "We will capture the first moment when the ball starts the trip down, and input our movement decision, immediately after the game prints in the user did OK.\n",
    "Of course, since you can see the beginning, you can always pick the right direction, but enhancing this cell can allow inputting a robot decision. With an 8sec timer"
   ]
  },
  {
   "cell_type": "markdown",
   "id": "c7ffe1b2-f76f-45e8-85ac-00630ce2f6fe",
   "metadata": {},
   "source": [
    "### Let's now clean the images:"
   ]
  },
  {
   "cell_type": "code",
   "execution_count": null,
   "id": "e0a710a0-a561-4086-85b6-48a39215ed1f",
   "metadata": {
    "tags": []
   },
   "outputs": [
    {
     "data": {
      "image/png": "[encoded data removed]",
      "text/plain": [
       "<IPython.core.display.Image object>"
      ]
     },
     "metadata": {},
     "output_type": "display_data"
    },
    {
     "name": "stdout",
     "output_type": "stream",
     "text": [
      "\n",
      "Round 7/20\n",
      "Current score: 5\n",
      "You have 8 seconds to make your move!\n"
     ]
    },
    {
     "name": "stdin",
     "output_type": "stream",
     "text": [
      "Move the goalkeeper (left, middle, right):  middle\n"
     ]
    }
   ],
   "source": [
    "import os\n",
    "import pygame\n",
    "import random\n",
    "import threading\n",
    "import time\n",
    "from queue import Queue, Empty\n",
    "from IPython.display import display, Image, clear_output\n",
    "\n",
    "# Disable sound to avoid issues in non-graphical environments\n",
    "os.environ[\"SDL_AUDIODRIVER\"] = \"dummy\"\n",
    "pygame.mixer.init()\n",
    "\n",
    "# Initialize Pygame\n",
    "pygame.init()\n",
    "\n",
    "# Screen dimensions\n",
    "WIDTH, HEIGHT = 600, 400\n",
    "screen = pygame.display.set_mode((WIDTH, HEIGHT))\n",
    "pygame.display.set_caption(\"Goalkeeper Challenge\")\n",
    "\n",
    "# Colors\n",
    "WHITE = (255, 255, 255)\n",
    "BLACK = (0, 0, 0)\n",
    "GREEN = (34, 139, 34)\n",
    "RED = (255, 0, 0)\n",
    "BLUE = (30, 144, 255)\n",
    "GRAY = (169, 169, 169)\n",
    "\n",
    "# Goalkeeper properties\n",
    "goalkeeper_width, goalkeeper_height = 50, 100\n",
    "goalkeeper_y = HEIGHT - goalkeeper_height - 50\n",
    "\n",
    "# Ball properties\n",
    "ball_radius = 15\n",
    "ball_positions = [\"left\", \"middle\", \"right\"]\n",
    "ball_x_positions = {\"left\": WIDTH // 4, \"middle\": WIDTH // 2, \"right\": 3 * WIDTH // 4}\n",
    "ball_y_start = 50  # Initial Y position of the ball\n",
    "\n",
    "# Game variables\n",
    "running = True\n",
    "score = 0\n",
    "num_rounds = 20\n",
    "current_round = 0\n",
    "\n",
    "def draw_goal():\n",
    "    pygame.draw.rect(screen, GRAY, (WIDTH // 8, HEIGHT - 150, WIDTH - WIDTH // 4, 10))  # goal post\n",
    "    pygame.draw.rect(screen, GRAY, (WIDTH // 8, HEIGHT - 150, 10, 150))  # left post\n",
    "    pygame.draw.rect(screen, GRAY, (WIDTH - WIDTH // 8 - 10, HEIGHT - 150, 10, 150))  # right post\n",
    "\n",
    "def draw_goalkeeper(x, y):\n",
    "    # Draw the head\n",
    "    pygame.draw.circle(screen, BLUE, (x + goalkeeper_width // 2, y - 20), goalkeeper_width // 4)\n",
    "    # Draw the body\n",
    "    pygame.draw.rect(screen, BLUE, (x, y, goalkeeper_width, goalkeeper_height))\n",
    "    # Draw the arms\n",
    "    pygame.draw.line(screen, BLUE, (x - 20, y + 20), (x + goalkeeper_width + 20, y + 20), 5)\n",
    "    # Draw the legs\n",
    "    pygame.draw.line(screen, BLUE, (x + 10, y + goalkeeper_height), (x - 10, y + goalkeeper_height + 40), 5)\n",
    "    pygame.draw.line(screen, BLUE, (x + goalkeeper_width - 10, y + goalkeeper_height), (x + goalkeeper_width + 10, y + goalkeeper_height + 40), 5)\n",
    "\n",
    "def draw_field():\n",
    "    pygame.draw.rect(screen, GREEN, (0, 0, WIDTH, HEIGHT))  # Green field background\n",
    "\n",
    "def save_screenshot(round_number):\n",
    "    filename = f\"round_{round_number + 1}.png\"\n",
    "    pygame.image.save(screen, filename)\n",
    "    return filename\n",
    "\n",
    "def get_player_input(queue):\n",
    "    player_input = input(\"Move the goalkeeper (left, middle, right): \").strip().lower()\n",
    "    queue.put(player_input)\n",
    "\n",
    "def run_game():\n",
    "    global running, current_round, score\n",
    "\n",
    "    while running and current_round < num_rounds:\n",
    "        ball_position = random.choice(ball_positions)\n",
    "        goalkeeper_position = \"middle\"\n",
    "        goalkeeper_x = ball_x_positions[goalkeeper_position] - (goalkeeper_width // 2)\n",
    "        ball_y = ball_y_start  # Initialize the ball's Y position for each round\n",
    "\n",
    "        # Draw the initial state of the game\n",
    "        draw_field()\n",
    "        draw_goal()\n",
    "        draw_goalkeeper(goalkeeper_x, goalkeeper_y)\n",
    "        pygame.draw.circle(screen, RED, (ball_x_positions[ball_position], ball_y), ball_radius)\n",
    "        pygame.display.flip()\n",
    "        \n",
    "        # Save a screenshot at the start of the round and display it\n",
    "        screenshot_path = save_screenshot(current_round)\n",
    "        clear_output(wait=True)\n",
    "        display(Image(filename=screenshot_path))\n",
    "        \n",
    "        print(f\"\\nRound {current_round + 1}/{num_rounds}\")\n",
    "        print(f\"Current score: {score}\")\n",
    "        print(\"You have 8 seconds to make your move!\")\n",
    "        \n",
    "        # Prepare to capture player's input with a timeout\n",
    "        queue = Queue()\n",
    "        thread = threading.Thread(target=get_player_input, args=(queue,))\n",
    "        thread.start()\n",
    "\n",
    "        # Wait for the player's input or timeout after 8 seconds\n",
    "        try:\n",
    "            player_input = queue.get(timeout=8)\n",
    "        except Empty:\n",
    "            player_input = \"middle\"  # Default action if timeout occurs\n",
    "            print(\"No input detected. Defaulting to 'middle'.\")\n",
    "\n",
    "        # Ensure valid input\n",
    "        if player_input not in [\"left\", \"middle\", \"right\"]:\n",
    "            print(\"Invalid input! Defaulting to 'middle'.\")\n",
    "            player_input = \"middle\"\n",
    "\n",
    "        # Check if goalkeeper catches the ball\n",
    "        if player_input == ball_position:\n",
    "            print(f\"Goalkeeper moved to {player_input} and caught the ball!\")\n",
    "            score += 1\n",
    "        else:\n",
    "            print(f\"Goalkeeper moved to {player_input}, but missed the ball! The ball was at {ball_position}.\")\n",
    "        \n",
    "        # Move to the next round\n",
    "        current_round += 1\n",
    "        \n",
    "        if current_round >= num_rounds:\n",
    "            running = False\n",
    "\n",
    "    print(f\"\\nFinal Score: {score}/{num_rounds}\")\n",
    "    pygame.quit()\n",
    "\n",
    "# Run the game loop in the current thread\n",
    "run_game()\n"
   ]
  },
  {
   "cell_type": "code",
   "execution_count": null,
   "id": "75190e32-179a-477d-9106-17c5c7881fc5",
   "metadata": {
    "tags": []
   },
   "outputs": [],
   "source": [
    "import os\n",
    "import glob\n",
    "\n",
    "# Find all PNG files that match the pattern \"round_*.png\"\n",
    "png_files = glob.glob(\"round_*.png\")\n",
    "\n",
    "# Loop through and remove each file\n",
    "for file in png_files:\n",
    "    os.remove(file)\n",
    "    print(f\"Deleted {file}\")\n",
    "\n",
    "print(\"All round screenshots have been removed.\")\n"
   ]
  },
  {
   "cell_type": "code",
   "execution_count": null,
   "id": "bdcc27f6-f429-4d6f-9539-ea19956e2b5c",
   "metadata": {},
   "outputs": [],
   "source": []
  }
 ],
 "metadata": {
  "kernelspec": {
   "display_name": "Python 3.8 - AzureML",
   "language": "python",
   "name": "python38-azureml"
  },
  "language_info": {
   "codemirror_mode": {
    "name": "ipython",
    "version": 3
   },
   "file_extension": ".py",
   "mimetype": "text/x-python",
   "name": "python",
   "nbconvert_exporter": "python",
   "pygments_lexer": "ipython3",
   "version": "3.9.19"
  }
 },
 "nbformat": 4,
 "nbformat_minor": 5
}
